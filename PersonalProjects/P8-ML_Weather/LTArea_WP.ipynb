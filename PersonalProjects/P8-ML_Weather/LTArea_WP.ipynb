{
 "cells": [
  {
   "cell_type": "code",
   "execution_count": 2,
   "metadata": {},
   "outputs": [],
   "source": [
    "import numpy as np\n",
    "import matplotlib.pyplot as plt\n",
    "import pandas as pd\n",
    "import sklearn\n",
    "from IPython.display import display\n",
    "#Dates (month/day/year): 01/01/1982 through 03/28/2020 \n",
    "#Location: Latitude  50.25   Longitude 20.75 "
   ]
  },
  {
   "cell_type": "code",
   "execution_count": 3,
   "metadata": {},
   "outputs": [
    {
     "output_type": "execute_result",
     "data": {
      "text/plain": "       year  day_of_year  tot_precipitation  surface_pressure  temp_at2m  \\\n0      1982            1               0.59             97.35       1.01   \n1      1982            2               0.21             98.25      -1.63   \n2      1982            3               2.44             98.42      -0.77   \n3      1982            4               4.02             97.63       1.38   \n4      1982            5               4.38             97.34       1.98   \n...     ...          ...                ...               ...        ...   \n13962  2020           84               0.00            100.40      -2.20   \n13963  2020           85               0.03            100.16      -0.64   \n13964  2020           86               0.00             99.70       2.77   \n13965  2020           87             -99.00            -99.00     -99.00   \n13966  2020           88             -99.00            -99.00     -99.00   \n\n       min_temp_at2m  wind_speed  max_wind_speed  \n0               0.06        2.02            2.58  \n1              -4.60        2.34            3.37  \n2              -4.55        3.10            5.54  \n3               1.06        4.30            5.69  \n4               0.92        5.14            6.38  \n...              ...         ...             ...  \n13962          -6.37        3.90            5.97  \n13963          -5.50        4.02            6.20  \n13964          -3.37        3.35            4.99  \n13965         -99.00     -999.00         -999.00  \n13966         -99.00     -999.00         -999.00  \n\n[13967 rows x 8 columns]",
      "text/html": "<div>\n<style scoped>\n    .dataframe tbody tr th:only-of-type {\n        vertical-align: middle;\n    }\n\n    .dataframe tbody tr th {\n        vertical-align: top;\n    }\n\n    .dataframe thead th {\n        text-align: right;\n    }\n</style>\n<table border=\"1\" class=\"dataframe\">\n  <thead>\n    <tr style=\"text-align: right;\">\n      <th></th>\n      <th>year</th>\n      <th>day_of_year</th>\n      <th>tot_precipitation</th>\n      <th>surface_pressure</th>\n      <th>temp_at2m</th>\n      <th>min_temp_at2m</th>\n      <th>wind_speed</th>\n      <th>max_wind_speed</th>\n    </tr>\n  </thead>\n  <tbody>\n    <tr>\n      <th>0</th>\n      <td>1982</td>\n      <td>1</td>\n      <td>0.59</td>\n      <td>97.35</td>\n      <td>1.01</td>\n      <td>0.06</td>\n      <td>2.02</td>\n      <td>2.58</td>\n    </tr>\n    <tr>\n      <th>1</th>\n      <td>1982</td>\n      <td>2</td>\n      <td>0.21</td>\n      <td>98.25</td>\n      <td>-1.63</td>\n      <td>-4.60</td>\n      <td>2.34</td>\n      <td>3.37</td>\n    </tr>\n    <tr>\n      <th>2</th>\n      <td>1982</td>\n      <td>3</td>\n      <td>2.44</td>\n      <td>98.42</td>\n      <td>-0.77</td>\n      <td>-4.55</td>\n      <td>3.10</td>\n      <td>5.54</td>\n    </tr>\n    <tr>\n      <th>3</th>\n      <td>1982</td>\n      <td>4</td>\n      <td>4.02</td>\n      <td>97.63</td>\n      <td>1.38</td>\n      <td>1.06</td>\n      <td>4.30</td>\n      <td>5.69</td>\n    </tr>\n    <tr>\n      <th>4</th>\n      <td>1982</td>\n      <td>5</td>\n      <td>4.38</td>\n      <td>97.34</td>\n      <td>1.98</td>\n      <td>0.92</td>\n      <td>5.14</td>\n      <td>6.38</td>\n    </tr>\n    <tr>\n      <th>...</th>\n      <td>...</td>\n      <td>...</td>\n      <td>...</td>\n      <td>...</td>\n      <td>...</td>\n      <td>...</td>\n      <td>...</td>\n      <td>...</td>\n    </tr>\n    <tr>\n      <th>13962</th>\n      <td>2020</td>\n      <td>84</td>\n      <td>0.00</td>\n      <td>100.40</td>\n      <td>-2.20</td>\n      <td>-6.37</td>\n      <td>3.90</td>\n      <td>5.97</td>\n    </tr>\n    <tr>\n      <th>13963</th>\n      <td>2020</td>\n      <td>85</td>\n      <td>0.03</td>\n      <td>100.16</td>\n      <td>-0.64</td>\n      <td>-5.50</td>\n      <td>4.02</td>\n      <td>6.20</td>\n    </tr>\n    <tr>\n      <th>13964</th>\n      <td>2020</td>\n      <td>86</td>\n      <td>0.00</td>\n      <td>99.70</td>\n      <td>2.77</td>\n      <td>-3.37</td>\n      <td>3.35</td>\n      <td>4.99</td>\n    </tr>\n    <tr>\n      <th>13965</th>\n      <td>2020</td>\n      <td>87</td>\n      <td>-99.00</td>\n      <td>-99.00</td>\n      <td>-99.00</td>\n      <td>-99.00</td>\n      <td>-999.00</td>\n      <td>-999.00</td>\n    </tr>\n    <tr>\n      <th>13966</th>\n      <td>2020</td>\n      <td>88</td>\n      <td>-99.00</td>\n      <td>-99.00</td>\n      <td>-99.00</td>\n      <td>-99.00</td>\n      <td>-999.00</td>\n      <td>-999.00</td>\n    </tr>\n  </tbody>\n</table>\n<p>13967 rows × 8 columns</p>\n</div>"
     },
     "metadata": {},
     "execution_count": 3
    }
   ],
   "source": [
    "raw_df = pd.read_csv(\"LTArea_data.txt\")\n",
    "raw_df"
   ]
  },
  {
   "cell_type": "code",
   "execution_count": 4,
   "metadata": {},
   "outputs": [],
   "source": [
    "weather_data_raw = raw_df[[\"temp_at2m\", \"min_temp_at2m\", \"surface_pressure\",\"wind_speed\",\"max_wind_speed\"]].copy()\n",
    "weather_data_names = list(weather_data_raw.columns)"
   ]
  },
  {
   "cell_type": "code",
   "execution_count": 5,
   "metadata": {},
   "outputs": [
    {
     "output_type": "stream",
     "name": "stdout",
     "text": "[[ 1.010e+00  6.000e-02  9.735e+01  2.020e+00  2.580e+00]\n [-1.630e+00 -4.600e+00  9.825e+01  2.340e+00  3.370e+00]\n [-7.700e-01 -4.550e+00  9.842e+01  3.100e+00  5.540e+00]\n ...\n [ 2.770e+00 -3.370e+00  9.970e+01  3.350e+00  4.990e+00]\n [-9.900e+01 -9.900e+01 -9.900e+01 -9.990e+02 -9.990e+02]\n [-9.900e+01 -9.900e+01 -9.900e+01 -9.990e+02 -9.990e+02]]\n"
    }
   ],
   "source": [
    "weather_data = weather_data_raw.to_numpy()\n",
    "print(weather_data)"
   ]
  },
  {
   "cell_type": "code",
   "execution_count": 6,
   "metadata": {},
   "outputs": [],
   "source": [
    "target_data_raw = raw_df[\"tot_precipitation\"].to_list()\n",
    "target_data_names = [\"Znikome opady lub brak opadów\",\"Lekkie opady\",\"Intensywne opady\"]"
   ]
  },
  {
   "cell_type": "code",
   "execution_count": 7,
   "metadata": {},
   "outputs": [],
   "source": [
    "target_data = []\n",
    "for precipitation in target_data_raw:\n",
    "    if precipitation < 5:\n",
    "        target_data.append(0)\n",
    "    elif precipitation >= 5 and precipitation < 12:\n",
    "        target_data.append(1)\n",
    "    else:\n",
    "        target_data.append(2)"
   ]
  },
  {
   "cell_type": "code",
   "execution_count": 8,
   "metadata": {},
   "outputs": [],
   "source": [
    "from sklearn.model_selection import train_test_split\n",
    "X_train, X_test, y_train, y_test = train_test_split(weather_data, target_data, random_state = 0)"
   ]
  },
  {
   "cell_type": "code",
   "execution_count": 9,
   "metadata": {},
   "outputs": [],
   "source": [
    "#training_df = pd.DataFrame(X_train, columns = weather_data_names)\n",
    "#pd.plotting.scatter_matrix(training_df, c=y_train)"
   ]
  },
  {
   "cell_type": "code",
   "execution_count": 10,
   "metadata": {},
   "outputs": [],
   "source": [
    "from sklearn.neighbors import KNeighborsClassifier\n",
    "knn = KNeighborsClassifier(n_neighbors=9)"
   ]
  },
  {
   "cell_type": "code",
   "execution_count": 11,
   "metadata": {},
   "outputs": [
    {
     "output_type": "execute_result",
     "data": {
      "text/plain": "KNeighborsClassifier(algorithm='auto', leaf_size=30, metric='minkowski',\n                     metric_params=None, n_jobs=None, n_neighbors=9, p=2,\n                     weights='uniform')"
     },
     "metadata": {},
     "execution_count": 11
    }
   ],
   "source": [
    "knn.fit(X_train, y_train)"
   ]
  },
  {
   "cell_type": "code",
   "execution_count": 12,
   "metadata": {},
   "outputs": [
    {
     "output_type": "stream",
     "name": "stdout",
     "text": "Test score: 0.8888888888888888\n"
    }
   ],
   "source": [
    "print(\"Test score:\", knn.score(X_test,y_test))"
   ]
  },
  {
   "cell_type": "code",
   "execution_count": 13,
   "metadata": {},
   "outputs": [
    {
     "output_type": "stream",
     "name": "stdout",
     "text": "Prognoza: Znikome opady lub brak opadów\n"
    }
   ],
   "source": [
    "X_new = np.array([[17, 2, 102.5, 9, 17]])#temp,min_temp,surf_press,wind_speed,max_wind_speed\n",
    "prediction = knn.predict(X_new)\n",
    "print(\"Prognoza:\", target_data_names[prediction[0]])"
   ]
  },
  {
   "cell_type": "code",
   "execution_count": null,
   "metadata": {},
   "outputs": [],
   "source": []
  }
 ],
 "metadata": {
  "kernelspec": {
   "display_name": "Python 3",
   "language": "python",
   "name": "python3"
  },
  "language_info": {
   "codemirror_mode": {
    "name": "ipython",
    "version": 3
   },
   "file_extension": ".py",
   "mimetype": "text/x-python",
   "name": "python",
   "nbconvert_exporter": "python",
   "pygments_lexer": "ipython3",
   "version": "3.8.2-final"
  }
 },
 "nbformat": 4,
 "nbformat_minor": 4
}